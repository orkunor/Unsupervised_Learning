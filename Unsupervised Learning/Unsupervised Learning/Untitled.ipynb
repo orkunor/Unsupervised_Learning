{
 "cells": [
  {
   "cell_type": "markdown",
   "id": "cafeb882",
   "metadata": {},
   "source": [
    "kümeleme/bölütleme Clustering\n",
    "\n",
    "bölütleme/kümeleme yöntemleri makine öğrenmesinin veri madenciliğinin çok da gelişmediği kavramlardır!!!\n",
    "\n",
    "görüntüleme görü vs gibi şeylerde gelişmelere sebep oldular üzerlerinde çalışılıyor!!!\n",
    "\n",
    "\n",
    "unsupervised elimizdeki örneklerden kendimiz inşaa ediyoruz!!! tamamen özgürdür kendi dünyasında kendi algıladığı şekilde problemi tanımlar kendi sınıflarını kendisini oluşturuyor bu yüzden gözetimsizdir insan kendi ayarlamıyor!!!\n",
    "-müşteri segmentasyonu : (elimizde böyle bir veri tabanı vardır örneğin) al bu müşterileri kendin bölütler yarat vs diyoruz \n",
    "1- pazarlama için kullanılır , doğru ürünü satmak için bu yol seçilir. müşteri davranışlarına bakılır... \n",
    "2-özel kampanyalar : yine müşteri hayatı analiz edilerek bu kampanyalar düzenlenir!!! \n",
    "3-tehdit ve sahtakarlık algılama  \n",
    "4-eksik verilerin tamamlanması : mesela müşteri maaşına göre ürün alacak ama maaşı bilinmiyor yine bölütleyerek ona ulaşırız \n",
    "5-verinin alt kümesi üzerinde yapılan bütün işlemler \n",
    "-pazar segmentasyonu \n",
    "1-davranışsal segmentasyon\n",
    "2-demografik segmentayon\n",
    "3-psikolojik segmentayson :örneğin giyim markaları psikolojiye göre segmente eder \n",
    "4-coğrafi segmentasyon \n",
    "5-verinin alt kümesi üzer,nde yapılan bütün işlemler \n",
    "-sağlık ve görüntü işleme\n",
    "1-görüntüyü alıp analiz edip kümeleme yapar örneğin . \n",
    "2-hareketlerdeki görüntüdeki farklılıkları görebiliriz ... \n",
    "\n",
    "CLUSTERİNG : başarı kriteri bölütteki elemanlar arasındaki mesafenin minumum olması bölütler arası ise max olması istenir. başarı kriteri böyle belirlenir!!! \n",
    "\n",
    " \n",
    "\n",
    "\n",
    "\n",
    "\n",
    "supervised ise baştan bir sınıf tanımı vardır classification budur... \n"
   ]
  }
 ],
 "metadata": {
  "kernelspec": {
   "display_name": "Python 3",
   "language": "python",
   "name": "python3"
  },
  "language_info": {
   "codemirror_mode": {
    "name": "ipython",
    "version": 3
   },
   "file_extension": ".py",
   "mimetype": "text/x-python",
   "name": "python",
   "nbconvert_exporter": "python",
   "pygments_lexer": "ipython3",
   "version": "3.8.8"
  }
 },
 "nbformat": 4,
 "nbformat_minor": 5
}
