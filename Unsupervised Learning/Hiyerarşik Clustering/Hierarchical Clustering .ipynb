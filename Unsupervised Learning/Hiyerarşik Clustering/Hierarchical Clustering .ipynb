{
 "cells": [
  {
   "cell_type": "markdown",
   "id": "b1eb3114",
   "metadata": {},
   "source": [
    "# Hierarchical Clustering \n",
    "\n",
    "-- iki farklı yaklaşımla \n",
    "\n",
    "1- agglomerative :aşağıdan yukarı\n",
    "\n",
    "=> her veri tek bir küme/bölüt ile başlar\n",
    "\n",
    "=> en yakın ikişer komşuyu alıp ikşerli küme/bölüt oluşturulur\n",
    "\n",
    "=> en yakın iki kümeyi alıp yeni bir bölüt oluşturulur.\n",
    "\n",
    "=> bir önceki adım , tek bir bölüt/küme olana kadar devam eder\n",
    "\n",
    "## burada porblem bu mesafeleri nasıl ölçecğimizdir çünkü asıl olarak mesafelere bağlı olarak bir işlem bütünü var elimizde \n",
    "birbirine yakın olan clusterları birleştirmekle ilgileniyor mesafenin arttığı yerlerle herhangi bir işi yok \n",
    "\n",
    "\n",
    "\n",
    "\n",
    "2-divisive : yukarıdan aşağı tam tersi \n",
    "\n"
   ]
  },
  {
   "cell_type": "markdown",
   "id": "0288d953",
   "metadata": {},
   "source": [
    "# dendogram kavramı nedir ?\n",
    "\n",
    "Dendrogram, veri kümesinin hiyerarşik kümeleme (hierarchical clustering) yöntemleriyle görselleştirilmesinde kullanılan bir diyagramdır. Hiyerarşik kümeleme, veri noktalarını hiyerarşik bir yapıda gruplara ayıran bir kümeleme yöntemidir. Dendrogram, bu hiyerarşik yapıyı ağaç benzeri bir diyagramda gösterir.\n",
    "\n"
   ]
  },
  {
   "cell_type": "code",
   "execution_count": 1,
   "id": "913793c6",
   "metadata": {},
   "outputs": [],
   "source": [
    "#clustering sklearn sayfasnına yinebak unutma  \n",
    "\n",
    "#agglomerativeclustering oldukça önemldir \n",
    "\n",
    "#buradaki veri şekillerine bak algoritma çekerken buna bakıcaz \n",
    "\n",
    "\n",
    "import numpy as np \n",
    "import pandas as pd \n",
    "import matplotlib.pyplot as plt\n",
    "import seaborn as sns \n",
    "\n"
   ]
  },
  {
   "cell_type": "code",
   "execution_count": 2,
   "id": "47e083aa",
   "metadata": {},
   "outputs": [],
   "source": [
    "veriler = pd.read_csv(\"musteriler.csv\")"
   ]
  },
  {
   "cell_type": "code",
   "execution_count": 3,
   "id": "a738cc36",
   "metadata": {},
   "outputs": [
    {
     "data": {
      "text/html": [
       "<div>\n",
       "<style scoped>\n",
       "    .dataframe tbody tr th:only-of-type {\n",
       "        vertical-align: middle;\n",
       "    }\n",
       "\n",
       "    .dataframe tbody tr th {\n",
       "        vertical-align: top;\n",
       "    }\n",
       "\n",
       "    .dataframe thead th {\n",
       "        text-align: right;\n",
       "    }\n",
       "</style>\n",
       "<table border=\"1\" class=\"dataframe\">\n",
       "  <thead>\n",
       "    <tr style=\"text-align: right;\">\n",
       "      <th></th>\n",
       "      <th>No</th>\n",
       "      <th>Cinsiyet</th>\n",
       "      <th>Yas</th>\n",
       "      <th>Hacim</th>\n",
       "      <th>Maas</th>\n",
       "    </tr>\n",
       "  </thead>\n",
       "  <tbody>\n",
       "    <tr>\n",
       "      <th>0</th>\n",
       "      <td>1</td>\n",
       "      <td>K</td>\n",
       "      <td>60</td>\n",
       "      <td>69900</td>\n",
       "      <td>6325</td>\n",
       "    </tr>\n",
       "    <tr>\n",
       "      <th>1</th>\n",
       "      <td>2</td>\n",
       "      <td>K</td>\n",
       "      <td>30</td>\n",
       "      <td>79000</td>\n",
       "      <td>5200</td>\n",
       "    </tr>\n",
       "    <tr>\n",
       "      <th>2</th>\n",
       "      <td>3</td>\n",
       "      <td>E</td>\n",
       "      <td>52</td>\n",
       "      <td>85500</td>\n",
       "      <td>7825</td>\n",
       "    </tr>\n",
       "    <tr>\n",
       "      <th>3</th>\n",
       "      <td>4</td>\n",
       "      <td>E</td>\n",
       "      <td>57</td>\n",
       "      <td>17100</td>\n",
       "      <td>8375</td>\n",
       "    </tr>\n",
       "    <tr>\n",
       "      <th>4</th>\n",
       "      <td>5</td>\n",
       "      <td>E</td>\n",
       "      <td>55</td>\n",
       "      <td>5500</td>\n",
       "      <td>5450</td>\n",
       "    </tr>\n",
       "  </tbody>\n",
       "</table>\n",
       "</div>"
      ],
      "text/plain": [
       "   No Cinsiyet  Yas  Hacim  Maas\n",
       "0   1        K   60  69900  6325\n",
       "1   2        K   30  79000  5200\n",
       "2   3        E   52  85500  7825\n",
       "3   4        E   57  17100  8375\n",
       "4   5        E   55   5500  5450"
      ]
     },
     "execution_count": 3,
     "metadata": {},
     "output_type": "execute_result"
    }
   ],
   "source": [
    "veriler.head()"
   ]
  },
  {
   "cell_type": "code",
   "execution_count": 4,
   "id": "af9ed630",
   "metadata": {},
   "outputs": [],
   "source": [
    "X= veriler.iloc[:,3:]"
   ]
  },
  {
   "cell_type": "code",
   "execution_count": 5,
   "id": "be900d64",
   "metadata": {},
   "outputs": [
    {
     "data": {
      "text/html": [
       "<div>\n",
       "<style scoped>\n",
       "    .dataframe tbody tr th:only-of-type {\n",
       "        vertical-align: middle;\n",
       "    }\n",
       "\n",
       "    .dataframe tbody tr th {\n",
       "        vertical-align: top;\n",
       "    }\n",
       "\n",
       "    .dataframe thead th {\n",
       "        text-align: right;\n",
       "    }\n",
       "</style>\n",
       "<table border=\"1\" class=\"dataframe\">\n",
       "  <thead>\n",
       "    <tr style=\"text-align: right;\">\n",
       "      <th></th>\n",
       "      <th>Hacim</th>\n",
       "      <th>Maas</th>\n",
       "    </tr>\n",
       "  </thead>\n",
       "  <tbody>\n",
       "    <tr>\n",
       "      <th>0</th>\n",
       "      <td>69900</td>\n",
       "      <td>6325</td>\n",
       "    </tr>\n",
       "    <tr>\n",
       "      <th>1</th>\n",
       "      <td>79000</td>\n",
       "      <td>5200</td>\n",
       "    </tr>\n",
       "    <tr>\n",
       "      <th>2</th>\n",
       "      <td>85500</td>\n",
       "      <td>7825</td>\n",
       "    </tr>\n",
       "    <tr>\n",
       "      <th>3</th>\n",
       "      <td>17100</td>\n",
       "      <td>8375</td>\n",
       "    </tr>\n",
       "    <tr>\n",
       "      <th>4</th>\n",
       "      <td>5500</td>\n",
       "      <td>5450</td>\n",
       "    </tr>\n",
       "    <tr>\n",
       "      <th>...</th>\n",
       "      <td>...</td>\n",
       "      <td>...</td>\n",
       "    </tr>\n",
       "    <tr>\n",
       "      <th>195</th>\n",
       "      <td>96600</td>\n",
       "      <td>7900</td>\n",
       "    </tr>\n",
       "    <tr>\n",
       "      <th>196</th>\n",
       "      <td>83700</td>\n",
       "      <td>7675</td>\n",
       "    </tr>\n",
       "    <tr>\n",
       "      <th>197</th>\n",
       "      <td>34000</td>\n",
       "      <td>4000</td>\n",
       "    </tr>\n",
       "    <tr>\n",
       "      <th>198</th>\n",
       "      <td>42000</td>\n",
       "      <td>5500</td>\n",
       "    </tr>\n",
       "    <tr>\n",
       "      <th>199</th>\n",
       "      <td>47600</td>\n",
       "      <td>4150</td>\n",
       "    </tr>\n",
       "  </tbody>\n",
       "</table>\n",
       "<p>200 rows × 2 columns</p>\n",
       "</div>"
      ],
      "text/plain": [
       "     Hacim  Maas\n",
       "0    69900  6325\n",
       "1    79000  5200\n",
       "2    85500  7825\n",
       "3    17100  8375\n",
       "4     5500  5450\n",
       "..     ...   ...\n",
       "195  96600  7900\n",
       "196  83700  7675\n",
       "197  34000  4000\n",
       "198  42000  5500\n",
       "199  47600  4150\n",
       "\n",
       "[200 rows x 2 columns]"
      ]
     },
     "execution_count": 5,
     "metadata": {},
     "output_type": "execute_result"
    }
   ],
   "source": [
    "X"
   ]
  },
  {
   "cell_type": "code",
   "execution_count": 6,
   "id": "ada3d660",
   "metadata": {},
   "outputs": [],
   "source": [
    "from sklearn.cluster import AgglomerativeClustering"
   ]
  },
  {
   "cell_type": "code",
   "execution_count": 22,
   "id": "0bf27bb2",
   "metadata": {},
   "outputs": [],
   "source": [
    "ac = AgglomerativeClustering(n_clusters = 4 , affinity = 'euclidean' , linkage = 'ward')"
   ]
  },
  {
   "cell_type": "code",
   "execution_count": 23,
   "id": "6d6a8139",
   "metadata": {},
   "outputs": [
    {
     "name": "stderr",
     "output_type": "stream",
     "text": [
      "C:\\Anaconda3\\lib\\site-packages\\sklearn\\cluster\\_agglomerative.py:983: FutureWarning: Attribute `affinity` was deprecated in version 1.2 and will be removed in 1.4. Use `metric` instead\n",
      "  warnings.warn(\n"
     ]
    }
   ],
   "source": [
    "Y_tahmin = ac.fit_predict(X) #sistemi hem inşaa edip hem de tahmin etti "
   ]
  },
  {
   "cell_type": "code",
   "execution_count": 24,
   "id": "b7162312",
   "metadata": {},
   "outputs": [
    {
     "data": {
      "text/plain": [
       "array([0, 0, 0, 2, 2, 2, 2, 0, 2, 1, 1, 0, 1, 2, 0, 3, 0, 2, 0, 0, 2, 2,\n",
       "       0, 1, 3, 1, 2, 0, 2, 1, 2, 1, 1, 0, 1, 1, 1, 2, 1, 3, 0, 2, 0, 2,\n",
       "       2, 1, 1, 1, 1, 3, 2, 0, 3, 3, 0, 0, 2, 0, 1, 0, 3, 0, 1, 2, 1, 2,\n",
       "       1, 0, 1, 2, 0, 0, 0, 0, 2, 2, 3, 0, 1, 2, 2, 2, 1, 1, 3, 0, 0, 1,\n",
       "       2, 2, 0, 2, 3, 1, 2, 1, 2, 0, 2, 2, 1, 3, 0, 2, 2, 0, 0, 1, 1, 3,\n",
       "       3, 0, 0, 0, 0, 1, 2, 0, 1, 1, 2, 1, 0, 0, 0, 1, 2, 2, 3, 2, 2, 1,\n",
       "       1, 1, 1, 2, 1, 1, 0, 1, 0, 2, 1, 1, 0, 1, 1, 1, 1, 2, 1, 1, 0, 2,\n",
       "       1, 3, 2, 1, 3, 2, 1, 1, 2, 1, 2, 1, 1, 0, 2, 2, 0, 2, 2, 1, 1, 2,\n",
       "       2, 1, 3, 1, 1, 0, 1, 3, 0, 3, 2, 2, 1, 2, 1, 2, 1, 0, 2, 0, 0, 1,\n",
       "       1, 1], dtype=int64)"
      ]
     },
     "execution_count": 24,
     "metadata": {},
     "output_type": "execute_result"
    }
   ],
   "source": [
    "Y_tahmin #hangi cluster içerisinde olduğunu gösteriyor \n"
   ]
  },
  {
   "cell_type": "code",
   "execution_count": 25,
   "id": "2247bcc1",
   "metadata": {},
   "outputs": [
    {
     "data": {
      "image/png": "[encoded data removed]",
      "text/plain": [
       "<Figure size 432x288 with 1 Axes>"
      ]
     },
     "metadata": {
      "needs_background": "light"
     },
     "output_type": "display_data"
    }
   ],
   "source": [
    "plt.scatter(X.values[Y_tahmin == 0,0],X.values[Y_tahmin == 0,1],s=100,c='red')\n",
    "# burada X'in tahmin ve sonuç değerlerini alıcaz \n",
    "plt.scatter(X.values[Y_tahmin == 1,0],X.values[Y_tahmin == 1,1],s=100,c='blue')\n",
    "plt.scatter(X.values[Y_tahmin == 2,0],X.values[Y_tahmin == 2,1],s=100,c='yellow')\n",
    "plt.scatter(X.values[Y_tahmin == 3,0],X.values[Y_tahmin == 3,1],s=100,c='black')\n",
    "# cluster'ları ekrana yazdırdık !!\n",
    "plt.show()"
   ]
  },
  {
   "cell_type": "code",
   "execution_count": 26,
   "id": "75b757a7",
   "metadata": {},
   "outputs": [
    {
     "data": {
      "image/png": "[encoded data removed]",
      "text/plain": [
       "<Figure size 432x288 with 1 Axes>"
      ]
     },
     "metadata": {
      "needs_background": "light"
     },
     "output_type": "display_data"
    }
   ],
   "source": [
    "#scipy kullanarak da işlemler yaparız \n",
    "import scipy.cluster.hierarchy as sch \n",
    "dendogram = sch.dendrogram(sch.linkage(X,method = 'ward')) #mesafemiz ward \n",
    "plt.show()\n",
    "#scipy sitesine giderek ayrıntılara bakabiliriz!!!\n"
   ]
  }
 ],
 "metadata": {
  "kernelspec": {
   "display_name": "Python 3",
   "language": "python",
   "name": "python3"
  },
  "language_info": {
   "codemirror_mode": {
    "name": "ipython",
    "version": 3
   },
   "file_extension": ".py",
   "mimetype": "text/x-python",
   "name": "python",
   "nbconvert_exporter": "python",
   "pygments_lexer": "ipython3",
   "version": "3.8.8"
  }
 },
 "nbformat": 4,
 "nbformat_minor": 5
}
