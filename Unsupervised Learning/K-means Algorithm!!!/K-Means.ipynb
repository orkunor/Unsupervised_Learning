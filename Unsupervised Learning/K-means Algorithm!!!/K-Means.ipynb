{
 "cells": [
  {
   "cell_type": "markdown",
   "id": "85060370",
   "metadata": {},
   "source": [
    "# K-Means (K-Ortalam) :\n",
    "\n",
    "NASIL ÇALIŞIR ?\n",
    "\n",
    "-kaç küme olacağı kullanıcıdan parametre olarak seçilir (bu kullanıcıdan alındığı için eksi bir özelliktir.)\n",
    "\n",
    "-rastgele olarak k merkez noktası seçilir .\n",
    "\n",
    "-her veri örneği en yakın merkez noktasına göre ilgili kümöeye atanır . \n",
    "\n",
    "-her küme için yeni merkez noktaları hesaplanarak merkez noktaları kaydırılır . \n",
    "\n",
    "\n",
    "\n",
    "\n",
    "\n",
    "\n",
    "\n",
    "\n",
    "her nokta bizim için aynıdır hiçbir farkı yoktur kadındır erkektir vs diye bir şey yoktur verilerin birbirine mesafesine göre makine öğrenir .  \n",
    "\n"
   ]
  },
  {
   "cell_type": "markdown",
   "id": "edf612d2",
   "metadata": {},
   "source": [
    "# K-Means başlangıç noktası tuzağı : \n",
    "\n",
    "şimdi bu algoritmanın bazı problemleri vardır bazı sıkınıtıları görelim : \n",
    "\n",
    "bu problem K-Means++ ile çözülebilir : \n",
    "\n",
    "1-rastgele seçilen noktalardan en yakınına her noktadan uzaklığı hesapla (buna D(x) diyelim )\n",
    "\n",
    "2-yeni noktaları mesafenin karesini olasılık alarak (D(x)^2 ile bul!!!)"
   ]
  },
  {
   "cell_type": "markdown",
   "id": "2fe27905",
   "metadata": {},
   "source": [
    "# K-Means küme/bölüt sayısna karar  verme : \n",
    "\n",
    "--K değerini burada biz veriyoruz yani clustring değerini veriyoruz ama kaç tane vermeliyiz bu önemlidir ... \n",
    "\n",
    "--X-Means ile verdiğiniz aralıktakileri dener \n",
    "\n",
    "--K-Means ile de wcss yöntemi bulunmaktadır...\n",
    "\n",
    "--WCSS değerlerine dikkat etmen gerekir mükemmel olsun 0 çıksın istersek her bir data pointe bir nokta atar tam istediğimizi vermez yani unutma !!! bu overfittinge sebep olur \n",
    "\n",
    "--eğimin kırıldığı noktaya bakılır bu nokta bizim için optimal noktadır ve seçilir!!!\n",
    "\n",
    "--K değerini böyle saptayabiliriz elimizde gruplar yoksa bunu deneriz \n",
    "\n",
    "--ön tanım yoksa bu hesabı yapmak gerekir \n"
   ]
  },
  {
   "cell_type": "markdown",
   "id": "bc9beabf",
   "metadata": {},
   "source": [
    "# Sample Code \n",
    "\n",
    "import numpy as np\n",
    "import matplotlib.pyplot as plt\n",
    "\n",
    "def calculate_distance(point1, point2):\n",
    "    return np.sqrt(np.sum((point1 - point2) ** 2))\n",
    "\n",
    "def calculate_wcss(data, centroids, labels):\n",
    "    wcss = 0\n",
    "    for i in range(len(data)):\n",
    "        centroid_index = labels[i]\n",
    "        wcss += calculate_distance(data[i], centroids[centroid_index]) ** 2\n",
    "    return wcss\n",
    "\n",
    "def k_means(data, k, max_iterations=100):\n",
    "    # Randomly initialize centroids\n",
    "    centroids = data[np.random.choice(len(data), k, replace=False)]\n",
    "    \n",
    "    for _ in range(max_iterations):\n",
    "        # Assign points to the nearest centroid\n",
    "        labels = np.argmin([np.linalg.norm(data - centroid, axis=1) for centroid in centroids], axis=0)\n",
    "        \n",
    "        # Update centroids\n",
    "        new_centroids = np.array([data[labels == i].mean(axis=0) for i in range(k)])\n",
    "        \n",
    "        if np.all(centroids == new_centroids):\n",
    "            break\n",
    "        \n",
    "        centroids = new_centroids\n",
    "        \n",
    "    return centroids, labels\n",
    "\n",
    "data = np.array([\n",
    "    [2, 3],\n",
    "    [5, 8],\n",
    "    [1, 6],\n",
    "    [8, 4],\n",
    "    [9, 1]\n",
    "])\n",
    "\n",
    "# Farklı küme sayıları için WCSS değerlerini hesapla\n",
    "k_values = range(1, 6)\n",
    "wcss_values = []\n",
    "for k in k_values:\n",
    "    centroids, labels = k_means(data, k)\n",
    "    wcss_values.append(calculate_wcss(data, centroids, labels))\n",
    "\n",
    "# WCSS değerlerini görselleştir\n",
    "plt.plot(k_values, wcss_values, marker='o')\n",
    "plt.xlabel('Küme Sayısı (K)')\n",
    "plt.ylabel('WCSS Değeri')\n",
    "plt.title('Dirsek Kuralı ile Optimal Küme Sayısı Belirleme')\n",
    "plt.show()"
   ]
  },
  {
   "cell_type": "code",
   "execution_count": 1,
   "id": "b4be4aa6",
   "metadata": {},
   "outputs": [],
   "source": [
    "#sklearn'e bak kmeans ile \n",
    "#clustering sklearn'e giderek veri çeşitlerinden farklı algoritmlaarı kullanma şansın var onları incele \n",
    "\n",
    "import numpy as np \n",
    "import pandas as pd \n",
    "import matplotlib.pyplot as plt\n",
    "import seaborn as sns \n",
    "\n"
   ]
  },
  {
   "cell_type": "code",
   "execution_count": 2,
   "id": "03a83b24",
   "metadata": {},
   "outputs": [],
   "source": [
    "veriler = pd.read_csv(\"musteriler.csv\")"
   ]
  },
  {
   "cell_type": "code",
   "execution_count": 3,
   "id": "5faaaa6f",
   "metadata": {},
   "outputs": [
    {
     "data": {
      "text/html": [
       "<div>\n",
       "<style scoped>\n",
       "    .dataframe tbody tr th:only-of-type {\n",
       "        vertical-align: middle;\n",
       "    }\n",
       "\n",
       "    .dataframe tbody tr th {\n",
       "        vertical-align: top;\n",
       "    }\n",
       "\n",
       "    .dataframe thead th {\n",
       "        text-align: right;\n",
       "    }\n",
       "</style>\n",
       "<table border=\"1\" class=\"dataframe\">\n",
       "  <thead>\n",
       "    <tr style=\"text-align: right;\">\n",
       "      <th></th>\n",
       "      <th>No</th>\n",
       "      <th>Cinsiyet</th>\n",
       "      <th>Yas</th>\n",
       "      <th>Hacim</th>\n",
       "      <th>Maas</th>\n",
       "    </tr>\n",
       "  </thead>\n",
       "  <tbody>\n",
       "    <tr>\n",
       "      <th>0</th>\n",
       "      <td>1</td>\n",
       "      <td>K</td>\n",
       "      <td>60</td>\n",
       "      <td>69900</td>\n",
       "      <td>6325</td>\n",
       "    </tr>\n",
       "    <tr>\n",
       "      <th>1</th>\n",
       "      <td>2</td>\n",
       "      <td>K</td>\n",
       "      <td>30</td>\n",
       "      <td>79000</td>\n",
       "      <td>5200</td>\n",
       "    </tr>\n",
       "    <tr>\n",
       "      <th>2</th>\n",
       "      <td>3</td>\n",
       "      <td>E</td>\n",
       "      <td>52</td>\n",
       "      <td>85500</td>\n",
       "      <td>7825</td>\n",
       "    </tr>\n",
       "    <tr>\n",
       "      <th>3</th>\n",
       "      <td>4</td>\n",
       "      <td>E</td>\n",
       "      <td>57</td>\n",
       "      <td>17100</td>\n",
       "      <td>8375</td>\n",
       "    </tr>\n",
       "    <tr>\n",
       "      <th>4</th>\n",
       "      <td>5</td>\n",
       "      <td>E</td>\n",
       "      <td>55</td>\n",
       "      <td>5500</td>\n",
       "      <td>5450</td>\n",
       "    </tr>\n",
       "  </tbody>\n",
       "</table>\n",
       "</div>"
      ],
      "text/plain": [
       "   No Cinsiyet  Yas  Hacim  Maas\n",
       "0   1        K   60  69900  6325\n",
       "1   2        K   30  79000  5200\n",
       "2   3        E   52  85500  7825\n",
       "3   4        E   57  17100  8375\n",
       "4   5        E   55   5500  5450"
      ]
     },
     "execution_count": 3,
     "metadata": {},
     "output_type": "execute_result"
    }
   ],
   "source": [
    "veriler.head()\n",
    "#dikkat et id ksımını vs kullanmayız çünkü veri için ek bilgi sunmuyor \n"
   ]
  },
  {
   "cell_type": "code",
   "execution_count": 4,
   "id": "39b14cda",
   "metadata": {},
   "outputs": [],
   "source": [
    "X= veriler.iloc[:,3:]"
   ]
  },
  {
   "cell_type": "code",
   "execution_count": 5,
   "id": "95c809bb",
   "metadata": {},
   "outputs": [
    {
     "data": {
      "text/html": [
       "<div>\n",
       "<style scoped>\n",
       "    .dataframe tbody tr th:only-of-type {\n",
       "        vertical-align: middle;\n",
       "    }\n",
       "\n",
       "    .dataframe tbody tr th {\n",
       "        vertical-align: top;\n",
       "    }\n",
       "\n",
       "    .dataframe thead th {\n",
       "        text-align: right;\n",
       "    }\n",
       "</style>\n",
       "<table border=\"1\" class=\"dataframe\">\n",
       "  <thead>\n",
       "    <tr style=\"text-align: right;\">\n",
       "      <th></th>\n",
       "      <th>Hacim</th>\n",
       "      <th>Maas</th>\n",
       "    </tr>\n",
       "  </thead>\n",
       "  <tbody>\n",
       "    <tr>\n",
       "      <th>0</th>\n",
       "      <td>69900</td>\n",
       "      <td>6325</td>\n",
       "    </tr>\n",
       "    <tr>\n",
       "      <th>1</th>\n",
       "      <td>79000</td>\n",
       "      <td>5200</td>\n",
       "    </tr>\n",
       "    <tr>\n",
       "      <th>2</th>\n",
       "      <td>85500</td>\n",
       "      <td>7825</td>\n",
       "    </tr>\n",
       "    <tr>\n",
       "      <th>3</th>\n",
       "      <td>17100</td>\n",
       "      <td>8375</td>\n",
       "    </tr>\n",
       "    <tr>\n",
       "      <th>4</th>\n",
       "      <td>5500</td>\n",
       "      <td>5450</td>\n",
       "    </tr>\n",
       "    <tr>\n",
       "      <th>...</th>\n",
       "      <td>...</td>\n",
       "      <td>...</td>\n",
       "    </tr>\n",
       "    <tr>\n",
       "      <th>195</th>\n",
       "      <td>96600</td>\n",
       "      <td>7900</td>\n",
       "    </tr>\n",
       "    <tr>\n",
       "      <th>196</th>\n",
       "      <td>83700</td>\n",
       "      <td>7675</td>\n",
       "    </tr>\n",
       "    <tr>\n",
       "      <th>197</th>\n",
       "      <td>34000</td>\n",
       "      <td>4000</td>\n",
       "    </tr>\n",
       "    <tr>\n",
       "      <th>198</th>\n",
       "      <td>42000</td>\n",
       "      <td>5500</td>\n",
       "    </tr>\n",
       "    <tr>\n",
       "      <th>199</th>\n",
       "      <td>47600</td>\n",
       "      <td>4150</td>\n",
       "    </tr>\n",
       "  </tbody>\n",
       "</table>\n",
       "<p>200 rows × 2 columns</p>\n",
       "</div>"
      ],
      "text/plain": [
       "     Hacim  Maas\n",
       "0    69900  6325\n",
       "1    79000  5200\n",
       "2    85500  7825\n",
       "3    17100  8375\n",
       "4     5500  5450\n",
       "..     ...   ...\n",
       "195  96600  7900\n",
       "196  83700  7675\n",
       "197  34000  4000\n",
       "198  42000  5500\n",
       "199  47600  4150\n",
       "\n",
       "[200 rows x 2 columns]"
      ]
     },
     "execution_count": 5,
     "metadata": {},
     "output_type": "execute_result"
    }
   ],
   "source": [
    "X\n",
    "#yaşını ve ne kadar hacimde iş yaptığı bilgisini aldık!!!"
   ]
  },
  {
   "cell_type": "code",
   "execution_count": 6,
   "id": "02e19563",
   "metadata": {},
   "outputs": [],
   "source": [
    "from sklearn.cluster import KMeans"
   ]
  },
  {
   "cell_type": "code",
   "execution_count": 7,
   "id": "0f1c5ef6",
   "metadata": {},
   "outputs": [],
   "source": [
    "kmeans=KMeans(n_clusters = 4, init = 'k-means++')"
   ]
  },
  {
   "cell_type": "code",
   "execution_count": 8,
   "id": "4824c84e",
   "metadata": {},
   "outputs": [
    {
     "name": "stderr",
     "output_type": "stream",
     "text": [
      "C:\\Anaconda3\\lib\\site-packages\\sklearn\\cluster\\_kmeans.py:870: FutureWarning: The default value of `n_init` will change from 10 to 'auto' in 1.4. Set the value of `n_init` explicitly to suppress the warning\n",
      "  warnings.warn(\n",
      "C:\\Anaconda3\\lib\\site-packages\\sklearn\\cluster\\_kmeans.py:1382: UserWarning: KMeans is known to have a memory leak on Windows with MKL, when there are less chunks than available threads. You can avoid it by setting the environment variable OMP_NUM_THREADS=1.\n",
      "  warnings.warn(\n"
     ]
    },
    {
     "data": {
      "text/html": [
       "<style>#sk-container-id-1 {color: black;background-color: white;}#sk-container-id-1 pre{padding: 0;}#sk-container-id-1 div.sk-toggleable {background-color: white;}#sk-container-id-1 label.sk-toggleable__label {cursor: pointer;display: block;width: 100%;margin-bottom: 0;padding: 0.3em;box-sizing: border-box;text-align: center;}#sk-container-id-1 label.sk-toggleable__label-arrow:before {content: \"▸\";float: left;margin-right: 0.25em;color: #696969;}#sk-container-id-1 label.sk-toggleable__label-arrow:hover:before {color: black;}#sk-container-id-1 div.sk-estimator:hover label.sk-toggleable__label-arrow:before {color: black;}#sk-container-id-1 div.sk-toggleable__content {max-height: 0;max-width: 0;overflow: hidden;text-align: left;background-color: #f0f8ff;}#sk-container-id-1 div.sk-toggleable__content pre {margin: 0.2em;color: black;border-radius: 0.25em;background-color: #f0f8ff;}#sk-container-id-1 input.sk-toggleable__control:checked~div.sk-toggleable__content {max-height: 200px;max-width: 100%;overflow: auto;}#sk-container-id-1 input.sk-toggleable__control:checked~label.sk-toggleable__label-arrow:before {content: \"▾\";}#sk-container-id-1 div.sk-estimator input.sk-toggleable__control:checked~label.sk-toggleable__label {background-color: #d4ebff;}#sk-container-id-1 div.sk-label input.sk-toggleable__control:checked~label.sk-toggleable__label {background-color: #d4ebff;}#sk-container-id-1 input.sk-hidden--visually {border: 0;clip: rect(1px 1px 1px 1px);clip: rect(1px, 1px, 1px, 1px);height: 1px;margin: -1px;overflow: hidden;padding: 0;position: absolute;width: 1px;}#sk-container-id-1 div.sk-estimator {font-family: monospace;background-color: #f0f8ff;border: 1px dotted black;border-radius: 0.25em;box-sizing: border-box;margin-bottom: 0.5em;}#sk-container-id-1 div.sk-estimator:hover {background-color: #d4ebff;}#sk-container-id-1 div.sk-parallel-item::after {content: \"\";width: 100%;border-bottom: 1px solid gray;flex-grow: 1;}#sk-container-id-1 div.sk-label:hover label.sk-toggleable__label {background-color: #d4ebff;}#sk-container-id-1 div.sk-serial::before {content: \"\";position: absolute;border-left: 1px solid gray;box-sizing: border-box;top: 0;bottom: 0;left: 50%;z-index: 0;}#sk-container-id-1 div.sk-serial {display: flex;flex-direction: column;align-items: center;background-color: white;padding-right: 0.2em;padding-left: 0.2em;position: relative;}#sk-container-id-1 div.sk-item {position: relative;z-index: 1;}#sk-container-id-1 div.sk-parallel {display: flex;align-items: stretch;justify-content: center;background-color: white;position: relative;}#sk-container-id-1 div.sk-item::before, #sk-container-id-1 div.sk-parallel-item::before {content: \"\";position: absolute;border-left: 1px solid gray;box-sizing: border-box;top: 0;bottom: 0;left: 50%;z-index: -1;}#sk-container-id-1 div.sk-parallel-item {display: flex;flex-direction: column;z-index: 1;position: relative;background-color: white;}#sk-container-id-1 div.sk-parallel-item:first-child::after {align-self: flex-end;width: 50%;}#sk-container-id-1 div.sk-parallel-item:last-child::after {align-self: flex-start;width: 50%;}#sk-container-id-1 div.sk-parallel-item:only-child::after {width: 0;}#sk-container-id-1 div.sk-dashed-wrapped {border: 1px dashed gray;margin: 0 0.4em 0.5em 0.4em;box-sizing: border-box;padding-bottom: 0.4em;background-color: white;}#sk-container-id-1 div.sk-label label {font-family: monospace;font-weight: bold;display: inline-block;line-height: 1.2em;}#sk-container-id-1 div.sk-label-container {text-align: center;}#sk-container-id-1 div.sk-container {/* jupyter's `normalize.less` sets `[hidden] { display: none; }` but bootstrap.min.css set `[hidden] { display: none !important; }` so we also need the `!important` here to be able to override the default hidden behavior on the sphinx rendered scikit-learn.org. See: https://github.com/scikit-learn/scikit-learn/issues/21755 */display: inline-block !important;position: relative;}#sk-container-id-1 div.sk-text-repr-fallback {display: none;}</style><div id=\"sk-container-id-1\" class=\"sk-top-container\"><div class=\"sk-text-repr-fallback\"><pre>KMeans(n_clusters=4)</pre><b>In a Jupyter environment, please rerun this cell to show the HTML representation or trust the notebook. <br />On GitHub, the HTML representation is unable to render, please try loading this page with nbviewer.org.</b></div><div class=\"sk-container\" hidden><div class=\"sk-item\"><div class=\"sk-estimator sk-toggleable\"><input class=\"sk-toggleable__control sk-hidden--visually\" id=\"sk-estimator-id-1\" type=\"checkbox\" checked><label for=\"sk-estimator-id-1\" class=\"sk-toggleable__label sk-toggleable__label-arrow\">KMeans</label><div class=\"sk-toggleable__content\"><pre>KMeans(n_clusters=4)</pre></div></div></div></div></div>"
      ],
      "text/plain": [
       "KMeans(n_clusters=4)"
      ]
     },
     "execution_count": 8,
     "metadata": {},
     "output_type": "execute_result"
    }
   ],
   "source": [
    "kmeans.fit(X)"
   ]
  },
  {
   "cell_type": "code",
   "execution_count": 9,
   "id": "104b972e",
   "metadata": {},
   "outputs": [
    {
     "name": "stdout",
     "output_type": "stream",
     "text": [
      "[[ 81588.46153846   6765.38461538]\n",
      " [ 16483.33333333   5422.91666667]\n",
      " [122140.           8000.        ]\n",
      " [ 44848.52941176   5201.47058824]]\n"
     ]
    }
   ],
   "source": [
    "print(kmeans.cluster_centers_)\n",
    "#3 adet dediğimiz için 3 farklı merkez noktası verdi \n"
   ]
  },
  {
   "cell_type": "code",
   "execution_count": 10,
   "id": "0798c349",
   "metadata": {},
   "outputs": [
    {
     "name": "stderr",
     "output_type": "stream",
     "text": [
      "C:\\Anaconda3\\lib\\site-packages\\sklearn\\cluster\\_kmeans.py:870: FutureWarning: The default value of `n_init` will change from 10 to 'auto' in 1.4. Set the value of `n_init` explicitly to suppress the warning\n",
      "  warnings.warn(\n",
      "C:\\Anaconda3\\lib\\site-packages\\sklearn\\cluster\\_kmeans.py:1382: UserWarning: KMeans is known to have a memory leak on Windows with MKL, when there are less chunks than available threads. You can avoid it by setting the environment variable OMP_NUM_THREADS=1.\n",
      "  warnings.warn(\n",
      "C:\\Anaconda3\\lib\\site-packages\\sklearn\\cluster\\_kmeans.py:870: FutureWarning: The default value of `n_init` will change from 10 to 'auto' in 1.4. Set the value of `n_init` explicitly to suppress the warning\n",
      "  warnings.warn(\n",
      "C:\\Anaconda3\\lib\\site-packages\\sklearn\\cluster\\_kmeans.py:1382: UserWarning: KMeans is known to have a memory leak on Windows with MKL, when there are less chunks than available threads. You can avoid it by setting the environment variable OMP_NUM_THREADS=1.\n",
      "  warnings.warn(\n",
      "C:\\Anaconda3\\lib\\site-packages\\sklearn\\cluster\\_kmeans.py:870: FutureWarning: The default value of `n_init` will change from 10 to 'auto' in 1.4. Set the value of `n_init` explicitly to suppress the warning\n",
      "  warnings.warn(\n",
      "C:\\Anaconda3\\lib\\site-packages\\sklearn\\cluster\\_kmeans.py:1382: UserWarning: KMeans is known to have a memory leak on Windows with MKL, when there are less chunks than available threads. You can avoid it by setting the environment variable OMP_NUM_THREADS=1.\n",
      "  warnings.warn(\n",
      "C:\\Anaconda3\\lib\\site-packages\\sklearn\\cluster\\_kmeans.py:870: FutureWarning: The default value of `n_init` will change from 10 to 'auto' in 1.4. Set the value of `n_init` explicitly to suppress the warning\n",
      "  warnings.warn(\n",
      "C:\\Anaconda3\\lib\\site-packages\\sklearn\\cluster\\_kmeans.py:1382: UserWarning: KMeans is known to have a memory leak on Windows with MKL, when there are less chunks than available threads. You can avoid it by setting the environment variable OMP_NUM_THREADS=1.\n",
      "  warnings.warn(\n",
      "C:\\Anaconda3\\lib\\site-packages\\sklearn\\cluster\\_kmeans.py:870: FutureWarning: The default value of `n_init` will change from 10 to 'auto' in 1.4. Set the value of `n_init` explicitly to suppress the warning\n",
      "  warnings.warn(\n",
      "C:\\Anaconda3\\lib\\site-packages\\sklearn\\cluster\\_kmeans.py:1382: UserWarning: KMeans is known to have a memory leak on Windows with MKL, when there are less chunks than available threads. You can avoid it by setting the environment variable OMP_NUM_THREADS=1.\n",
      "  warnings.warn(\n",
      "C:\\Anaconda3\\lib\\site-packages\\sklearn\\cluster\\_kmeans.py:870: FutureWarning: The default value of `n_init` will change from 10 to 'auto' in 1.4. Set the value of `n_init` explicitly to suppress the warning\n",
      "  warnings.warn(\n",
      "C:\\Anaconda3\\lib\\site-packages\\sklearn\\cluster\\_kmeans.py:1382: UserWarning: KMeans is known to have a memory leak on Windows with MKL, when there are less chunks than available threads. You can avoid it by setting the environment variable OMP_NUM_THREADS=1.\n",
      "  warnings.warn(\n",
      "C:\\Anaconda3\\lib\\site-packages\\sklearn\\cluster\\_kmeans.py:870: FutureWarning: The default value of `n_init` will change from 10 to 'auto' in 1.4. Set the value of `n_init` explicitly to suppress the warning\n",
      "  warnings.warn(\n",
      "C:\\Anaconda3\\lib\\site-packages\\sklearn\\cluster\\_kmeans.py:1382: UserWarning: KMeans is known to have a memory leak on Windows with MKL, when there are less chunks than available threads. You can avoid it by setting the environment variable OMP_NUM_THREADS=1.\n",
      "  warnings.warn(\n",
      "C:\\Anaconda3\\lib\\site-packages\\sklearn\\cluster\\_kmeans.py:870: FutureWarning: The default value of `n_init` will change from 10 to 'auto' in 1.4. Set the value of `n_init` explicitly to suppress the warning\n",
      "  warnings.warn(\n",
      "C:\\Anaconda3\\lib\\site-packages\\sklearn\\cluster\\_kmeans.py:1382: UserWarning: KMeans is known to have a memory leak on Windows with MKL, when there are less chunks than available threads. You can avoid it by setting the environment variable OMP_NUM_THREADS=1.\n",
      "  warnings.warn(\n",
      "C:\\Anaconda3\\lib\\site-packages\\sklearn\\cluster\\_kmeans.py:870: FutureWarning: The default value of `n_init` will change from 10 to 'auto' in 1.4. Set the value of `n_init` explicitly to suppress the warning\n",
      "  warnings.warn(\n",
      "C:\\Anaconda3\\lib\\site-packages\\sklearn\\cluster\\_kmeans.py:1382: UserWarning: KMeans is known to have a memory leak on Windows with MKL, when there are less chunks than available threads. You can avoid it by setting the environment variable OMP_NUM_THREADS=1.\n",
      "  warnings.warn(\n",
      "C:\\Anaconda3\\lib\\site-packages\\sklearn\\cluster\\_kmeans.py:870: FutureWarning: The default value of `n_init` will change from 10 to 'auto' in 1.4. Set the value of `n_init` explicitly to suppress the warning\n",
      "  warnings.warn(\n",
      "C:\\Anaconda3\\lib\\site-packages\\sklearn\\cluster\\_kmeans.py:1382: UserWarning: KMeans is known to have a memory leak on Windows with MKL, when there are less chunks than available threads. You can avoid it by setting the environment variable OMP_NUM_THREADS=1.\n",
      "  warnings.warn(\n"
     ]
    }
   ],
   "source": [
    "sonuclar = []\n",
    "for i in range(1,11) : \n",
    "    kmeans = KMeans(n_clusters = i , init = 'k-means++',random_state = 123)\n",
    "    kmeans.fit(X)\n",
    "    sonuclar.append(kmeans.inertia_) #bu wcss değerlerimizdir "
   ]
  },
  {
   "cell_type": "code",
   "execution_count": 11,
   "id": "c163a233",
   "metadata": {},
   "outputs": [
    {
     "data": {
      "text/plain": [
       "[242389902746.875,\n",
       " 69083288306.74911,\n",
       " 37362865661.973114,\n",
       " 19665039712.795002,\n",
       " 12911353632.710129,\n",
       " 8631933632.93952,\n",
       " 6759928141.384078,\n",
       " 5301517432.980297,\n",
       " 4172822197.446949,\n",
       " 3330255811.5491543]"
      ]
     },
     "execution_count": 11,
     "metadata": {},
     "output_type": "execute_result"
    }
   ],
   "source": [
    "sonuclar"
   ]
  },
  {
   "cell_type": "code",
   "execution_count": 12,
   "id": "5f0b2718",
   "metadata": {},
   "outputs": [
    {
     "data": {
      "text/plain": [
       "[<matplotlib.lines.Line2D at 0x26b16523ee0>]"
      ]
     },
     "execution_count": 12,
     "metadata": {},
     "output_type": "execute_result"
    },
    {
     "data": {
      "image/png": "[encoded data removed]",
      "text/plain": [
       "<Figure size 432x288 with 1 Axes>"
      ]
     },
     "metadata": {
      "needs_background": "light"
     },
     "output_type": "display_data"
    }
   ],
   "source": [
    "plt.plot(range(1,11),sonuclar)\n",
    "#görüldüğü üzere 2 noktasında büyük bir eğim değişikliği var \n",
    "# bu eğim değişikliği bizim optimal noktamızdır "
   ]
  },
  {
   "cell_type": "markdown",
   "id": "3dd494a6",
   "metadata": {},
   "source": [
    "işte buna göre k değerini yani n_clusters değerini atarız \n",
    "\n",
    "bu değerle beraber doğru clusters sayımızı bulmuş olduk \n",
    "\n"
   ]
  },
  {
   "cell_type": "code",
   "execution_count": 13,
   "id": "80edf6c8",
   "metadata": {},
   "outputs": [
    {
     "name": "stderr",
     "output_type": "stream",
     "text": [
      "C:\\Anaconda3\\lib\\site-packages\\sklearn\\cluster\\_kmeans.py:870: FutureWarning: The default value of `n_init` will change from 10 to 'auto' in 1.4. Set the value of `n_init` explicitly to suppress the warning\n",
      "  warnings.warn(\n",
      "C:\\Anaconda3\\lib\\site-packages\\sklearn\\cluster\\_kmeans.py:1382: UserWarning: KMeans is known to have a memory leak on Windows with MKL, when there are less chunks than available threads. You can avoid it by setting the environment variable OMP_NUM_THREADS=1.\n",
      "  warnings.warn(\n"
     ]
    },
    {
     "name": "stdout",
     "output_type": "stream",
     "text": [
      "[2 2 2 1 1 1 1 2 1 3 3 2 3 1 2 0 2 1 2 2 1 1 2 3 0 3 1 2 1 3 1 3 3 2 3 3 3\n",
      " 1 3 0 0 1 2 1 1 3 3 3 3 0 1 2 0 0 2 2 1 2 3 2 0 2 3 1 3 1 3 2 3 1 2 2 2 2\n",
      " 1 1 0 2 3 1 1 1 3 3 0 2 2 3 1 1 2 1 0 3 1 3 1 2 1 1 3 0 2 1 1 2 2 3 3 0 0\n",
      " 2 2 2 2 3 1 2 3 3 1 3 2 2 2 3 1 1 0 1 1 3 3 3 3 1 3 3 2 3 2 1 3 3 2 3 3 3\n",
      " 3 1 3 3 2 1 3 0 1 3 0 1 3 3 3 3 1 3 3 2 1 1 2 1 1 3 2 1 1 3 0 3 3 2 3 0 2\n",
      " 0 1 1 3 1 3 1 3 2 1 2 2 3 3 3]\n"
     ]
    }
   ],
   "source": [
    "kmeans = KMeans(n_clusters = 4 , init = 'k-means++',random_state = 123)\n",
    "Y_tahmin =  kmeans.fit_predict(X)\n",
    "print(Y_tahmin)"
   ]
  },
  {
   "cell_type": "code",
   "execution_count": 17,
   "id": "8d2aba35",
   "metadata": {},
   "outputs": [
    {
     "data": {
      "image/png": "[encoded data removed]",
      "text/plain": [
       "<Figure size 432x288 with 1 Axes>"
      ]
     },
     "metadata": {
      "needs_background": "light"
     },
     "output_type": "display_data"
    }
   ],
   "source": [
    "plt.scatter(X.values[Y_tahmin == 0,0],X.values[Y_tahmin == 0,1],s=100,c='red')\n",
    "# burada X'in tahmin ve sonuç değerlerini alıcaz \n",
    "plt.scatter(X.values[Y_tahmin == 1,0],X.values[Y_tahmin == 1,1],s=100,c='blue')\n",
    "plt.scatter(X.values[Y_tahmin == 2,0],X.values[Y_tahmin == 2,1],s=100,c='yellow')\n",
    "plt.scatter(X.values[Y_tahmin == 3,0],X.values[Y_tahmin == 3,1],s=100,c='black')\n",
    "# cluster'ları ekrana yazdırdık !!\n",
    "plt.title('KMeans')\n",
    "plt.show()"
   ]
  }
 ],
 "metadata": {
  "kernelspec": {
   "display_name": "Python 3",
   "language": "python",
   "name": "python3"
  },
  "language_info": {
   "codemirror_mode": {
    "name": "ipython",
    "version": 3
   },
   "file_extension": ".py",
   "mimetype": "text/x-python",
   "name": "python",
   "nbconvert_exporter": "python",
   "pygments_lexer": "ipython3",
   "version": "3.8.8"
  }
 },
 "nbformat": 4,
 "nbformat_minor": 5
}
